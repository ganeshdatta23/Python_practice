{
 "cells": [
  {
   "cell_type": "code",
   "execution_count": 5,
   "id": "8eb7db00",
   "metadata": {},
   "outputs": [
    {
     "name": "stdout",
     "output_type": "stream",
     "text": [
      "mango ---> ognam\n",
      "orange ---> egnaro\n",
      "cherry ---> yrrehc\n"
     ]
    }
   ],
   "source": [
    "fruits = [\"mango\",'orange',\"cherry\"]\n",
    "for i in fruits:\n",
    "    print(i,\"--->\",i[::-1])\n",
    "    "
   ]
  },
  {
   "cell_type": "code",
   "execution_count": 8,
   "id": "d73cfe54",
   "metadata": {},
   "outputs": [
    {
     "name": "stdout",
     "output_type": "stream",
     "text": [
      "P\n",
      "r\n",
      "a\n",
      "j\n"
     ]
    }
   ],
   "source": [
    "for i in \"Prajwal\":\n",
    "    # print(i)\n",
    "    if i == 'w':\n",
    "        break\n",
    "    print(i)\n",
    "\n"
   ]
  },
  {
   "cell_type": "code",
   "execution_count": 25,
   "id": "9e13dd94",
   "metadata": {},
   "outputs": [
    {
     "name": "stdout",
     "output_type": "stream",
     "text": [
      "p\n",
      "r\n",
      "a\n",
      "j\n",
      "w\n",
      "a\n",
      "l\n"
     ]
    }
   ],
   "source": [
    "a=\"prajwal\"\n",
    "# print(a[2])\n",
    "for i in a:\n",
    "    print(i)\n",
    "    if i=='a' and a.index(i)!=2:\n",
    "        break\n",
    "\n",
    "# for i in a:\n",
    "    # print()\n",
    "    # if i == a[2]:\n",
    "    #     pass\n",
    "    # print(i)\n",
    "   \n",
    "# print(a[-2])"
   ]
  },
  {
   "cell_type": "code",
   "execution_count": 26,
   "id": "75aa2335",
   "metadata": {},
   "outputs": [
    {
     "name": "stdout",
     "output_type": "stream",
     "text": [
      "p\n",
      "r\n",
      "a\n",
      "j\n",
      "w\n",
      "a\n"
     ]
    }
   ],
   "source": [
    "a= \"prajwal\" \n",
    "for i in range(len(a)):\n",
    "    print(a[i])\n",
    "    if i==5:\n",
    "        break"
   ]
  },
  {
   "cell_type": "code",
   "execution_count": 32,
   "id": "34280040",
   "metadata": {},
   "outputs": [
    {
     "name": "stdout",
     "output_type": "stream",
     "text": [
      "11\n",
      "0 ---> m\n",
      "1 ---> a\n",
      "2 ---> h\n",
      "3 ---> e\n",
      "4 ---> s\n",
      "5 ---> h\n"
     ]
    }
   ],
   "source": [
    "name =\"mahesh babu\"\n",
    "print(len(name))\n",
    "for i in range(len(name)):\n",
    "    print(i,\"--->\",name[i])\n",
    "    if i==5:\n",
    "        break"
   ]
  },
  {
   "cell_type": "code",
   "execution_count": 36,
   "id": "91a623d1",
   "metadata": {},
   "outputs": [
    {
     "data": {
      "text/plain": [
       "{1: 'hamster'}"
      ]
     },
     "execution_count": 36,
     "metadata": {},
     "output_type": "execute_result"
    }
   ],
   "source": [
    "# for i in range(5):\n",
    "#     print(i)\n",
    "# else:\n",
    "#     print(\"its done\")\n",
    "\n",
    "a={1:'apple',1:\"hamster\"}\n",
    "a"
   ]
  },
  {
   "cell_type": "code",
   "execution_count": null,
   "id": "976224a2",
   "metadata": {},
   "outputs": [
    {
     "name": "stdout",
     "output_type": "stream",
     "text": [
      "{'m': 1, 'a': 2, 'h': 2, 'e': 1, 's': 1, ' ': 1, 'b': 2, 'u': 1}\n",
      "3\n",
      "a ===> 2 times\n",
      "h ===> 2 times\n",
      "b ===> 2 times\n"
     ]
    }
   ],
   "source": [
    "a=\"mahesh babu\" \n",
    "counter = {} #empty dict\n",
    "for i in a:\n",
    "    if i in counter:\n",
    "        counter[i]+=1\n",
    "    else:\n",
    "        counter[i]=1\n",
    "\n",
    "duplicate=0\n",
    "for j in counter.values():\n",
    "    if j>1:\n",
    "        duplicate+=1\n",
    "print(counter) #counter save kv pairs\n",
    "print(duplicate) #save total dup count\n",
    "for i,j in counter.items():\n",
    "    if j>1:\n",
    "        print(i,\"===>\",j,\"times\")\n",
    "\n"
   ]
  },
  {
   "cell_type": "markdown",
   "id": "fad8a2e4",
   "metadata": {},
   "source": [
    "\n",
    "The enumerate function adds a counter to an iterable and returns it in a form of an enumerate object. This object can be used directly in for loops. In this example, the for loop is used with enumerate on a list ['a', 'b', 'c']."
   ]
  },
  {
   "cell_type": "code",
   "execution_count": 41,
   "id": "eac7b1f8",
   "metadata": {},
   "outputs": [
    {
     "name": "stdout",
     "output_type": "stream",
     "text": [
      "0 one\n",
      "1 two\n",
      "2 three\n"
     ]
    }
   ],
   "source": [
    "l1 = [\"one\",'two','three']\n",
    "for i,j in enumerate(l1):\n",
    "    print(i,j)          "
   ]
  },
  {
   "cell_type": "code",
   "execution_count": null,
   "id": "ac71c3db",
   "metadata": {},
   "outputs": [],
   "source": []
  }
 ],
 "metadata": {
  "kernelspec": {
   "display_name": "Python 3",
   "language": "python",
   "name": "python3"
  },
  "language_info": {
   "codemirror_mode": {
    "name": "ipython",
    "version": 3
   },
   "file_extension": ".py",
   "mimetype": "text/x-python",
   "name": "python",
   "nbconvert_exporter": "python",
   "pygments_lexer": "ipython3",
   "version": "3.11.9"
  }
 },
 "nbformat": 4,
 "nbformat_minor": 5
}
